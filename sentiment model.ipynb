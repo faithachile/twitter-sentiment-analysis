{
 "cells": [
  {
   "cell_type": "code",
   "execution_count": null,
   "metadata": {},
   "outputs": [],
   "source": [
    "import pandas as pd\n",
    "import numpy as np\n",
    "import matplotlib.pyplot as plt\n",
    "from textblob.classifiers import NaiveBayesClassifier\n",
    "from PIL import Image\n",
    "from wordcloud import WordCloud, STOPWORDS, ImageColorGenerator\n",
    "import tweepy as tw\n",
    "from tweepy import OAuthHandler\n",
    "import time\n",
    "import re\n",
    "from nltk.tag import pos_tag\n",
    "from nltk.stem.wordnet import WordNetLemmatizer\n",
    "from nltk.corpus import stopwords\n",
    "import nltk\n",
    "import ssl\n",
    "\n",
    "try:\n",
    "    _create_unverified_https_context = ssl._create_unverified_context\n",
    "except AttributeError:\n",
    "    pass\n",
    "else:\n",
    "    ssl._create_default_https_context = _create_unverified_https_context\n",
    "\n",
    "nltk.download()\n",
    "import string\n",
    "import nltk\n",
    "from nltk.tokenize import word_tokenize\n",
    "from textblob import TextBlob\n",
    "from collections import Counter"
   ]
  },
  {
   "cell_type": "code",
   "execution_count": 14,
   "metadata": {},
   "outputs": [
    {
     "data": {
      "text/html": [
       "<div>\n",
       "<style scoped>\n",
       "    .dataframe tbody tr th:only-of-type {\n",
       "        vertical-align: middle;\n",
       "    }\n",
       "\n",
       "    .dataframe tbody tr th {\n",
       "        vertical-align: top;\n",
       "    }\n",
       "\n",
       "    .dataframe thead th {\n",
       "        text-align: right;\n",
       "    }\n",
       "</style>\n",
       "<table border=\"1\" class=\"dataframe\">\n",
       "  <thead>\n",
       "    <tr style=\"text-align: right;\">\n",
       "      <th></th>\n",
       "      <th>Unnamed: 0</th>\n",
       "      <th>tweet_text</th>\n",
       "      <th>label</th>\n",
       "    </tr>\n",
       "  </thead>\n",
       "  <tbody>\n",
       "    <tr>\n",
       "      <th>0</th>\n",
       "      <td>0</td>\n",
       "      <td>RT @RutgersRivals: Curious about @RutgersRival...</td>\n",
       "      <td>postive</td>\n",
       "    </tr>\n",
       "    <tr>\n",
       "      <th>1</th>\n",
       "      <td>1</td>\n",
       "      <td>@BeezyMcGee Although we do have many orders sh...</td>\n",
       "      <td>negative</td>\n",
       "    </tr>\n",
       "    <tr>\n",
       "      <th>2</th>\n",
       "      <td>2</td>\n",
       "      <td>Black Friday 2021 https://t.co/f7d0OArfwm</td>\n",
       "      <td>NaN</td>\n",
       "    </tr>\n",
       "    <tr>\n",
       "      <th>3</th>\n",
       "      <td>3</td>\n",
       "      <td>RT @LeftistMoniker: Well, it worked. Black Fri...</td>\n",
       "      <td>negative</td>\n",
       "    </tr>\n",
       "    <tr>\n",
       "      <th>4</th>\n",
       "      <td>4</td>\n",
       "      <td>To handle peak sales of more than $3.1 million...</td>\n",
       "      <td>positive</td>\n",
       "    </tr>\n",
       "    <tr>\n",
       "      <th>...</th>\n",
       "      <td>...</td>\n",
       "      <td>...</td>\n",
       "      <td>...</td>\n",
       "    </tr>\n",
       "    <tr>\n",
       "      <th>1495</th>\n",
       "      <td>1495</td>\n",
       "      <td>So I just realized that like the first 15 peop...</td>\n",
       "      <td>Positive</td>\n",
       "    </tr>\n",
       "    <tr>\n",
       "      <th>1496</th>\n",
       "      <td>1496</td>\n",
       "      <td>RT @ASovietOnion: thinking of Him as black fri...</td>\n",
       "      <td>Positive</td>\n",
       "    </tr>\n",
       "    <tr>\n",
       "      <th>1497</th>\n",
       "      <td>1497</td>\n",
       "      <td>RT @RowlandRIVALS: NEW: Cats Illustrated has l...</td>\n",
       "      <td>Neutral</td>\n",
       "    </tr>\n",
       "    <tr>\n",
       "      <th>1498</th>\n",
       "      <td>1498</td>\n",
       "      <td>RT @AirgoneFr: Congratulations and thank you t...</td>\n",
       "      <td>Positive</td>\n",
       "    </tr>\n",
       "    <tr>\n",
       "      <th>1499</th>\n",
       "      <td>1499</td>\n",
       "      <td>BLACK FRIDAY DEAL!\\n \\n adidas Yeezy Boost 350...</td>\n",
       "      <td>Positive</td>\n",
       "    </tr>\n",
       "  </tbody>\n",
       "</table>\n",
       "<p>1500 rows × 3 columns</p>\n",
       "</div>"
      ],
      "text/plain": [
       "      Unnamed: 0                                         tweet_text     label\n",
       "0              0  RT @RutgersRivals: Curious about @RutgersRival...   postive\n",
       "1              1  @BeezyMcGee Although we do have many orders sh...  negative\n",
       "2              2          Black Friday 2021 https://t.co/f7d0OArfwm       NaN\n",
       "3              3  RT @LeftistMoniker: Well, it worked. Black Fri...  negative\n",
       "4              4  To handle peak sales of more than $3.1 million...  positive\n",
       "...          ...                                                ...       ...\n",
       "1495        1495  So I just realized that like the first 15 peop...  Positive\n",
       "1496        1496  RT @ASovietOnion: thinking of Him as black fri...  Positive\n",
       "1497        1497  RT @RowlandRIVALS: NEW: Cats Illustrated has l...   Neutral\n",
       "1498        1498  RT @AirgoneFr: Congratulations and thank you t...  Positive\n",
       "1499        1499  BLACK FRIDAY DEAL!\\n \\n adidas Yeezy Boost 350...  Positive\n",
       "\n",
       "[1500 rows x 3 columns]"
      ]
     },
     "execution_count": 14,
     "metadata": {},
     "output_type": "execute_result"
    }
   ],
   "source": [
    "data = pd.read_csv('bfml.csv')\n",
    "data"
   ]
  },
  {
   "cell_type": "code",
   "execution_count": 15,
   "metadata": {},
   "outputs": [],
   "source": [
    "def cleanTxt(text):\n",
    "\n",
    "    text = re.sub(r'@[A-Za-z0-9]+','',text)\n",
    "    text = re.sub(r':', '', text)\n",
    "    text = re.sub(r'#', '',text)\n",
    "    text = re.sub(r'RT[\\s]+', '',text)\n",
    "    text = re.sub(r'https?:\\/\\/\\S+', '',text)\n",
    "    return text"
   ]
  },
  {
   "cell_type": "code",
   "execution_count": 16,
   "metadata": {},
   "outputs": [
    {
     "data": {
      "text/html": [
       "<div>\n",
       "<style scoped>\n",
       "    .dataframe tbody tr th:only-of-type {\n",
       "        vertical-align: middle;\n",
       "    }\n",
       "\n",
       "    .dataframe tbody tr th {\n",
       "        vertical-align: top;\n",
       "    }\n",
       "\n",
       "    .dataframe thead th {\n",
       "        text-align: right;\n",
       "    }\n",
       "</style>\n",
       "<table border=\"1\" class=\"dataframe\">\n",
       "  <thead>\n",
       "    <tr style=\"text-align: right;\">\n",
       "      <th></th>\n",
       "      <th>Unnamed: 0</th>\n",
       "      <th>tweet_text</th>\n",
       "      <th>label</th>\n",
       "    </tr>\n",
       "  </thead>\n",
       "  <tbody>\n",
       "    <tr>\n",
       "      <th>0</th>\n",
       "      <td>0</td>\n",
       "      <td>Curious about  premium?! \\n \\n Take advantage ...</td>\n",
       "      <td>postive</td>\n",
       "    </tr>\n",
       "    <tr>\n",
       "      <th>1</th>\n",
       "      <td>1</td>\n",
       "      <td>Although we do have many orders shipping out ...</td>\n",
       "      <td>negative</td>\n",
       "    </tr>\n",
       "    <tr>\n",
       "      <th>2</th>\n",
       "      <td>2</td>\n",
       "      <td>Black Friday 2021 https//t.co/f7d0OArfwm</td>\n",
       "      <td>NaN</td>\n",
       "    </tr>\n",
       "    <tr>\n",
       "      <th>3</th>\n",
       "      <td>3</td>\n",
       "      <td>Well, it worked. Black Friday sales were so ab...</td>\n",
       "      <td>negative</td>\n",
       "    </tr>\n",
       "    <tr>\n",
       "      <th>4</th>\n",
       "      <td>4</td>\n",
       "      <td>To handle peak sales of more than $3.1 million...</td>\n",
       "      <td>positive</td>\n",
       "    </tr>\n",
       "    <tr>\n",
       "      <th>...</th>\n",
       "      <td>...</td>\n",
       "      <td>...</td>\n",
       "      <td>...</td>\n",
       "    </tr>\n",
       "    <tr>\n",
       "      <th>1495</th>\n",
       "      <td>1495</td>\n",
       "      <td>So I just realized that like the first 15 peop...</td>\n",
       "      <td>Positive</td>\n",
       "    </tr>\n",
       "    <tr>\n",
       "      <th>1496</th>\n",
       "      <td>1496</td>\n",
       "      <td>thinking of Him as black friday draws near🥴 ht...</td>\n",
       "      <td>Positive</td>\n",
       "    </tr>\n",
       "    <tr>\n",
       "      <th>1497</th>\n",
       "      <td>1497</td>\n",
       "      <td>NEW Cats Illustrated has learned of a newly sc...</td>\n",
       "      <td>Neutral</td>\n",
       "    </tr>\n",
       "    <tr>\n",
       "      <th>1498</th>\n",
       "      <td>1498</td>\n",
       "      <td>Congratulations and thank you to\\n  who just b...</td>\n",
       "      <td>Positive</td>\n",
       "    </tr>\n",
       "    <tr>\n",
       "      <th>1499</th>\n",
       "      <td>1499</td>\n",
       "      <td>BLACK FRIDAY DEAL!\\n \\n adidas Yeezy Boost 350...</td>\n",
       "      <td>Positive</td>\n",
       "    </tr>\n",
       "  </tbody>\n",
       "</table>\n",
       "<p>1500 rows × 3 columns</p>\n",
       "</div>"
      ],
      "text/plain": [
       "      Unnamed: 0                                         tweet_text     label\n",
       "0              0  Curious about  premium?! \\n \\n Take advantage ...   postive\n",
       "1              1   Although we do have many orders shipping out ...  negative\n",
       "2              2           Black Friday 2021 https//t.co/f7d0OArfwm       NaN\n",
       "3              3  Well, it worked. Black Friday sales were so ab...  negative\n",
       "4              4  To handle peak sales of more than $3.1 million...  positive\n",
       "...          ...                                                ...       ...\n",
       "1495        1495  So I just realized that like the first 15 peop...  Positive\n",
       "1496        1496  thinking of Him as black friday draws near🥴 ht...  Positive\n",
       "1497        1497  NEW Cats Illustrated has learned of a newly sc...   Neutral\n",
       "1498        1498  Congratulations and thank you to\\n  who just b...  Positive\n",
       "1499        1499  BLACK FRIDAY DEAL!\\n \\n adidas Yeezy Boost 350...  Positive\n",
       "\n",
       "[1500 rows x 3 columns]"
      ]
     },
     "execution_count": 16,
     "metadata": {},
     "output_type": "execute_result"
    }
   ],
   "source": [
    "data['tweet_text'] = data['tweet_text'].apply(cleanTxt)\n",
    "\n",
    "data"
   ]
  },
  {
   "cell_type": "code",
   "execution_count": 17,
   "metadata": {},
   "outputs": [
    {
     "data": {
      "text/plain": [
       "Unnamed: 0      0\n",
       "tweet_text      0\n",
       "label         152\n",
       "dtype: int64"
      ]
     },
     "execution_count": 17,
     "metadata": {},
     "output_type": "execute_result"
    }
   ],
   "source": [
    "data.isnull().sum()"
   ]
  },
  {
   "cell_type": "code",
   "execution_count": 18,
   "metadata": {
    "scrolled": true
   },
   "outputs": [
    {
     "data": {
      "text/plain": [
       "positive    731\n",
       "negative    428\n",
       "Positive     85\n",
       "Postive      33\n",
       "Negative     31\n",
       "neutral      20\n",
       "postive      11\n",
       "positve       4\n",
       "poitive       2\n",
       "Neutral       2\n",
       "poistive      1\n",
       "Name: label, dtype: int64"
      ]
     },
     "execution_count": 18,
     "metadata": {},
     "output_type": "execute_result"
    }
   ],
   "source": [
    "data.label.value_counts()"
   ]
  },
  {
   "cell_type": "code",
   "execution_count": 19,
   "metadata": {},
   "outputs": [],
   "source": [
    "data.label = data.label.replace({'Positive': 'positive',\n",
    "                                'Postive': 'positive',\n",
    "                                'postive': 'positive',\n",
    "                                'positve': 'positive',\n",
    "                                'poitive': 'positive',\n",
    "                                'poistive': 'positive',\n",
    "                                \n",
    "                                'Negative': 'negative',\n",
    "                                 \n",
    "                                'Neutral': 'neutral'})"
   ]
  },
  {
   "cell_type": "code",
   "execution_count": 20,
   "metadata": {},
   "outputs": [
    {
     "data": {
      "text/plain": [
       "positive    867\n",
       "negative    459\n",
       "neutral      22\n",
       "Name: label, dtype: int64"
      ]
     },
     "execution_count": 20,
     "metadata": {},
     "output_type": "execute_result"
    }
   ],
   "source": [
    "data.label.value_counts()"
   ]
  },
  {
   "cell_type": "code",
   "execution_count": 21,
   "metadata": {
    "scrolled": true
   },
   "outputs": [],
   "source": [
    "data = data[(data['label'] == 'positive') | (data['label'] == 'negative') | (data['label'] == 'neutral')]\n",
    "data = data[['tweet_text', 'label']]\n",
    "# data"
   ]
  },
  {
   "cell_type": "code",
   "execution_count": 22,
   "metadata": {},
   "outputs": [],
   "source": [
    "data['tweet_text'] = data['tweet_text'].astype(str)\n",
    "data['label'] = data['label'].astype(str)"
   ]
  },
  {
   "cell_type": "code",
   "execution_count": 23,
   "metadata": {},
   "outputs": [],
   "source": [
    "data['data_col'] = data[['tweet_text', 'label']].apply(tuple, axis=1)"
   ]
  },
  {
   "cell_type": "code",
   "execution_count": 25,
   "metadata": {},
   "outputs": [],
   "source": [
    "traindf = data[:1100]\n",
    "# traindf"
   ]
  },
  {
   "cell_type": "code",
   "execution_count": 26,
   "metadata": {},
   "outputs": [],
   "source": [
    "testdf = data[1100:]\n",
    "# testdf"
   ]
  },
  {
   "cell_type": "code",
   "execution_count": 27,
   "metadata": {},
   "outputs": [],
   "source": [
    "train = traindf['data_col']\n",
    "train = train.values.tolist()\n",
    "testdf = testdf['data_col']\n",
    "testdf = testdf.values.tolist()"
   ]
  },
  {
   "cell_type": "code",
   "execution_count": 28,
   "metadata": {},
   "outputs": [],
   "source": [
    "from textblob import classifiers\n",
    "cl = classifiers.NaiveBayesClassifier(train)\n",
    "dt_cl = classifiers.DecisionTreeClassifier(train)"
   ]
  },
  {
   "cell_type": "code",
   "execution_count": 30,
   "metadata": {},
   "outputs": [
    {
     "data": {
      "text/plain": [
       "0.8669354838709677"
      ]
     },
     "execution_count": 30,
     "metadata": {},
     "output_type": "execute_result"
    }
   ],
   "source": [
    "cl.accuracy(testdf)"
   ]
  },
  {
   "cell_type": "code",
   "execution_count": 31,
   "metadata": {},
   "outputs": [
    {
     "data": {
      "text/plain": [
       "0.8669354838709677"
      ]
     },
     "execution_count": 31,
     "metadata": {},
     "output_type": "execute_result"
    }
   ],
   "source": [
    "dt_cl.accuracy(testdf)"
   ]
  },
  {
   "cell_type": "markdown",
   "metadata": {},
   "source": [
    "### Get recent tweets"
   ]
  },
  {
   "cell_type": "code",
   "execution_count": 32,
   "metadata": {},
   "outputs": [],
   "source": [
    "api_key = ['Yjc72iLaViJKBgUkgQTlbxinB']\n",
    "api_secret_key = ['e94PdXwuFOuwU8Vh0nveP0MiWlu2NenKH8sdGMiLIoIkn1v2IJ']\n",
    "access_token = ['898536142852718592-JrOTEmiLUWaJTzKVw1kVZbk27YqBtnK']\n",
    "access_token_secret =['uWV4eQf0rDqzA8idPs1nXRo1l1NiAnegUZcaPcCjAZoDZ']"
   ]
  },
  {
   "cell_type": "code",
   "execution_count": 33,
   "metadata": {},
   "outputs": [],
   "source": [
    "auth = tw.OAuthHandler('Yjc72iLaViJKBgUkgQTlbxinB','e94PdXwuFOuwU8Vh0nveP0MiWlu2NenKH8sdGMiLIoIkn1v2IJ')\n",
    "auth.set_access_token('898536142852718592-JrOTEmiLUWaJTzKVw1kVZbk27YqBtnK','uWV4eQf0rDqzA8idPs1nXRo1l1NiAnegUZcaPcCjAZoDZ')\n",
    "api = tw.API(auth, wait_on_rate_limit=True)"
   ]
  },
  {
   "cell_type": "code",
   "execution_count": 34,
   "metadata": {},
   "outputs": [],
   "source": [
    "tweets = []\n",
    "def tweets_query(api,query,count,max_requests):\n",
    "    tweets = tw.Cursor(api.search_tweets, q=query,lang=\"en\",since_id='2021-30-11').items(count)\n",
    "    #tweets\n",
    "    tweets_list  = [[tweet.text, tweet.id, tweet.source, tweet.coordinates, tweet.retweet_count, tweet.favorite_count,\n",
    "                tweet.user._json['name'],tweet.user._json['screen_name'], tweet.user._json['location'], tweet.user._json['friends_count'],\n",
    "                tweet.user._json['verified'], tweet.user._json['description'], tweet.user._json['followers_count']] for tweet in tweets]\n",
    "    tweets_df= pd.DataFrame(tweets_list, columns = ['tweet_text','tweet_id', 'tweet_source','coordinates','retweet_count','likes_count','Username', 'screen_name','location', 'friends_count','verification_status','description','followers_count'])\n",
    "    return tweets_df"
   ]
  },
  {
   "cell_type": "code",
   "execution_count": 37,
   "metadata": {},
   "outputs": [],
   "source": [
    "query = 'black friday'\n",
    "count = 10\n",
    "max_requests = 3\n",
    "tweets= tweets_query(api,query,count,max_requests)"
   ]
  },
  {
   "cell_type": "code",
   "execution_count": 38,
   "metadata": {},
   "outputs": [],
   "source": [
    "tweetdf = (tweets\n",
    " .sort_values(['followers_count'], ascending=False)\n",
    " [['tweet_text', 'retweet_count', 'followers_count']])"
   ]
  },
  {
   "cell_type": "code",
   "execution_count": 39,
   "metadata": {},
   "outputs": [],
   "source": [
    "tweetdf['tweet_text'] = tweetdf['tweet_text'].astype(str)\n",
    "#tweetdf['tweetdf_col'] = tweetdf[['tweet_text']].apply(tuple, axis=1)"
   ]
  },
  {
   "cell_type": "code",
   "execution_count": 40,
   "metadata": {},
   "outputs": [],
   "source": [
    "inference = tweetdf['tweet_text']\n",
    "inference = inference.values.tolist()"
   ]
  },
  {
   "cell_type": "code",
   "execution_count": 41,
   "metadata": {},
   "outputs": [],
   "source": [
    "sentiments = []\n",
    "for tweet in inference:\n",
    "    sentiment = cl.classify(tweet)\n",
    "    sentiments.append(sentiment) "
   ]
  },
  {
   "cell_type": "code",
   "execution_count": 42,
   "metadata": {},
   "outputs": [],
   "source": [
    "tweetdf['sentiments'] = np.asarray(sentiments)"
   ]
  },
  {
   "cell_type": "code",
   "execution_count": 43,
   "metadata": {},
   "outputs": [],
   "source": [
    "tweetdfdict  = tweetdf['sentiments'].value_counts().to_dict()"
   ]
  },
  {
   "cell_type": "code",
   "execution_count": null,
   "metadata": {},
   "outputs": [],
   "source": [
    "plt.bar(list(tweetdfdict.keys()), list(tweetdfdict.values()))\n",
    "\n",
    "plt.xlabel('Sentiments', fontsize=12)\n",
    "plt.ylabel('Total Number', fontsize=12)\n",
    "plt.title('Sentiment Analysis on Black Friday tweets', fontsize=14)\n",
    "plt.show()"
   ]
  },
  {
   "cell_type": "markdown",
   "metadata": {},
   "source": [
    "### Wordcloud"
   ]
  },
  {
   "cell_type": "code",
   "execution_count": 82,
   "metadata": {},
   "outputs": [],
   "source": [
    "def cleanTxt(text):\n",
    "\n",
    "    text = re.sub(r'@[A-Za-z0-9]+','',text)\n",
    "    text = re.sub(r':', '', text)\n",
    "    text = re.sub(r'#', '',text)\n",
    "    text = re.sub(r'RT[\\s]+', '',text)\n",
    "    text = re.sub(r'https?:\\/\\/\\S+', '',text)\n",
    "    return text"
   ]
  },
  {
   "cell_type": "code",
   "execution_count": 83,
   "metadata": {},
   "outputs": [
    {
     "data": {
      "text/html": [
       "<div>\n",
       "<style scoped>\n",
       "    .dataframe tbody tr th:only-of-type {\n",
       "        vertical-align: middle;\n",
       "    }\n",
       "\n",
       "    .dataframe tbody tr th {\n",
       "        vertical-align: top;\n",
       "    }\n",
       "\n",
       "    .dataframe thead th {\n",
       "        text-align: right;\n",
       "    }\n",
       "</style>\n",
       "<table border=\"1\" class=\"dataframe\">\n",
       "  <thead>\n",
       "    <tr style=\"text-align: right;\">\n",
       "      <th></th>\n",
       "      <th>tweet_text</th>\n",
       "      <th>retweet_count</th>\n",
       "      <th>followers_count</th>\n",
       "      <th>sentiments</th>\n",
       "    </tr>\n",
       "  </thead>\n",
       "  <tbody>\n",
       "    <tr>\n",
       "      <th>2</th>\n",
       "      <td>If my inbox and spam folder are anything to go...</td>\n",
       "      <td>0</td>\n",
       "      <td>15420</td>\n",
       "      <td>positive</td>\n",
       "    </tr>\n",
       "    <tr>\n",
       "      <th>3</th>\n",
       "      <td>Early Black Friday Sale!  25% OFF \\nPromo Code...</td>\n",
       "      <td>22</td>\n",
       "      <td>14105</td>\n",
       "      <td>positive</td>\n",
       "    </tr>\n",
       "    <tr>\n",
       "      <th>0</th>\n",
       "      <td>Kudos to  for again demonstrating its climate ...</td>\n",
       "      <td>0</td>\n",
       "      <td>5375</td>\n",
       "      <td>positive</td>\n",
       "    </tr>\n",
       "    <tr>\n",
       "      <th>5</th>\n",
       "      <td>A clip was posted on the Facebook page “Mueang...</td>\n",
       "      <td>1</td>\n",
       "      <td>1825</td>\n",
       "      <td>positive</td>\n",
       "    </tr>\n",
       "    <tr>\n",
       "      <th>6</th>\n",
       "      <td>No Black Friday for loud . https//t.co/yPCLLdUKoT</td>\n",
       "      <td>6</td>\n",
       "      <td>1483</td>\n",
       "      <td>positive</td>\n",
       "    </tr>\n",
       "    <tr>\n",
       "      <th>7</th>\n",
       "      <td>The New Black Wall Street in Stonecrest opened...</td>\n",
       "      <td>538</td>\n",
       "      <td>914</td>\n",
       "      <td>positive</td>\n",
       "    </tr>\n",
       "    <tr>\n",
       "      <th>1</th>\n",
       "      <td>The TRINITY of TERROR triple headline tour fea...</td>\n",
       "      <td>177</td>\n",
       "      <td>689</td>\n",
       "      <td>positive</td>\n",
       "    </tr>\n",
       "    <tr>\n",
       "      <th>8</th>\n",
       "      <td>Sharing ValerieReese previous Charity Event wh...</td>\n",
       "      <td>0</td>\n",
       "      <td>542</td>\n",
       "      <td>positive</td>\n",
       "    </tr>\n",
       "    <tr>\n",
       "      <th>9</th>\n",
       "      <td>I bought the Definitive Edition on Black Frid...</td>\n",
       "      <td>0</td>\n",
       "      <td>34</td>\n",
       "      <td>positive</td>\n",
       "    </tr>\n",
       "    <tr>\n",
       "      <th>4</th>\n",
       "      <td>The White House decorations this year look lik...</td>\n",
       "      <td>1656</td>\n",
       "      <td>11</td>\n",
       "      <td>positive</td>\n",
       "    </tr>\n",
       "  </tbody>\n",
       "</table>\n",
       "</div>"
      ],
      "text/plain": [
       "                                          tweet_text  retweet_count  \\\n",
       "2  If my inbox and spam folder are anything to go...              0   \n",
       "3  Early Black Friday Sale!  25% OFF \\nPromo Code...             22   \n",
       "0  Kudos to  for again demonstrating its climate ...              0   \n",
       "5  A clip was posted on the Facebook page “Mueang...              1   \n",
       "6  No Black Friday for loud . https//t.co/yPCLLdUKoT              6   \n",
       "7  The New Black Wall Street in Stonecrest opened...            538   \n",
       "1  The TRINITY of TERROR triple headline tour fea...            177   \n",
       "8  Sharing ValerieReese previous Charity Event wh...              0   \n",
       "9   I bought the Definitive Edition on Black Frid...              0   \n",
       "4  The White House decorations this year look lik...           1656   \n",
       "\n",
       "   followers_count sentiments  \n",
       "2            15420   positive  \n",
       "3            14105   positive  \n",
       "0             5375   positive  \n",
       "5             1825   positive  \n",
       "6             1483   positive  \n",
       "7              914   positive  \n",
       "1              689   positive  \n",
       "8              542   positive  \n",
       "9               34   positive  \n",
       "4               11   positive  "
      ]
     },
     "execution_count": 83,
     "metadata": {},
     "output_type": "execute_result"
    }
   ],
   "source": [
    "tweetdf['tweet_text'] = tweetdf['tweet_text'].apply(cleanTxt)\n",
    "\n",
    "tweetdf"
   ]
  },
  {
   "cell_type": "code",
   "execution_count": 84,
   "metadata": {},
   "outputs": [],
   "source": [
    "pos_review = tweetdf[tweetdf['sentiments'] == 'positive']"
   ]
  },
  {
   "cell_type": "code",
   "execution_count": 93,
   "metadata": {},
   "outputs": [],
   "source": [
    "text = \" \".join(tweet for tweet in pos_review.tweet_text.astype(str))"
   ]
  },
  {
   "cell_type": "code",
   "execution_count": null,
   "metadata": {
    "scrolled": true
   },
   "outputs": [],
   "source": [
    "#Generating the word cloud image\n",
    "stopwords = set(STOPWORDS)\n",
    "wordcloud_pos = WordCloud(stopwords=stopwords, background_color='white').generate(text)\n",
    "\n",
    "plt.figure(figsize=[20,10])\n",
    "plt.imshow(wordcloud_pos, interpolation='bilinear')\n",
    "plt.axis(\"off\")\n",
    "plt.show()"
   ]
  },
  {
   "cell_type": "markdown",
   "metadata": {},
   "source": [
    "### Tabular word frequency"
   ]
  },
  {
   "cell_type": "code",
   "execution_count": 95,
   "metadata": {},
   "outputs": [],
   "source": [
    "# stop = stopwords.words('english')\n",
    "newStopWords = ['rt', '@', 'black', 'friday','1', '2', '3', '4', '5', '6', '7', '8', '9', '10', '11', '12', '13', '14', '15', '16', '17', '18', '19',\n",
    "               '20', '21', '22', '23', '24', '25', '26', '27', '28', '29', '30']\n",
    "stopwords.update(newStopWords)"
   ]
  },
  {
   "cell_type": "code",
   "execution_count": 96,
   "metadata": {},
   "outputs": [
    {
     "name": "stderr",
     "output_type": "stream",
     "text": [
      "/var/folders/pc/qzxctc656pbdw4glm_hqv1f80000gn/T/ipykernel_41124/3680011079.py:1: FutureWarning: The default value of regex will change from True to False in a future version.\n",
      "  pos_review[\"tweet_text_stop\"] = pos_review[\"tweet_text\"].str.replace(\"[^\\w\\s]\", \"\").str.lower()\n"
     ]
    }
   ],
   "source": [
    "pos_review[\"tweet_text_stop\"] = pos_review[\"tweet_text\"].str.replace(\"[^\\w\\s]\", \"\").str.lower()"
   ]
  },
  {
   "cell_type": "code",
   "execution_count": 97,
   "metadata": {},
   "outputs": [],
   "source": [
    "pos_review[\"tweet_text_stop\"] = pos_review[\"tweet_text_stop\"].apply(lambda x: ' '.join([item for item in x.split() if item not in stopwords]))\n",
    "# a = pos_review[\"tweet_text_stop\"].str.split(expand=True).stack().value_counts()"
   ]
  },
  {
   "cell_type": "code",
   "execution_count": 98,
   "metadata": {},
   "outputs": [],
   "source": [
    "c = Counter(\" \".join(pos_review[\"tweet_text_stop\"].str.lower()).split()).most_common(100)"
   ]
  },
  {
   "cell_type": "code",
   "execution_count": 99,
   "metadata": {},
   "outputs": [
    {
     "data": {
      "text/html": [
       "<div>\n",
       "<style scoped>\n",
       "    .dataframe tbody tr th:only-of-type {\n",
       "        vertical-align: middle;\n",
       "    }\n",
       "\n",
       "    .dataframe tbody tr th {\n",
       "        vertical-align: top;\n",
       "    }\n",
       "\n",
       "    .dataframe thead th {\n",
       "        text-align: right;\n",
       "    }\n",
       "</style>\n",
       "<table border=\"1\" class=\"dataframe\">\n",
       "  <thead>\n",
       "    <tr style=\"text-align: right;\">\n",
       "      <th></th>\n",
       "      <th>word</th>\n",
       "      <th>count</th>\n",
       "    </tr>\n",
       "  </thead>\n",
       "  <tbody>\n",
       "    <tr>\n",
       "      <th>0</th>\n",
       "      <td>sale</td>\n",
       "      <td>3</td>\n",
       "    </tr>\n",
       "    <tr>\n",
       "      <th>1</th>\n",
       "      <td>go</td>\n",
       "      <td>2</td>\n",
       "    </tr>\n",
       "    <tr>\n",
       "      <th>2</th>\n",
       "      <td>now</td>\n",
       "      <td>2</td>\n",
       "    </tr>\n",
       "    <tr>\n",
       "      <th>3</th>\n",
       "      <td>amp</td>\n",
       "      <td>2</td>\n",
       "    </tr>\n",
       "    <tr>\n",
       "      <th>4</th>\n",
       "      <td>white</td>\n",
       "      <td>2</td>\n",
       "    </tr>\n",
       "    <tr>\n",
       "      <th>...</th>\n",
       "      <td>...</td>\n",
       "      <td>...</td>\n",
       "    </tr>\n",
       "    <tr>\n",
       "      <th>95</th>\n",
       "      <td>decorations</td>\n",
       "      <td>1</td>\n",
       "    </tr>\n",
       "    <tr>\n",
       "      <th>96</th>\n",
       "      <td>year</td>\n",
       "      <td>1</td>\n",
       "    </tr>\n",
       "    <tr>\n",
       "      <th>97</th>\n",
       "      <td>look</td>\n",
       "      <td>1</td>\n",
       "    </tr>\n",
       "    <tr>\n",
       "      <th>98</th>\n",
       "      <td>something</td>\n",
       "      <td>1</td>\n",
       "    </tr>\n",
       "    <tr>\n",
       "      <th>99</th>\n",
       "      <td>jill</td>\n",
       "      <td>1</td>\n",
       "    </tr>\n",
       "  </tbody>\n",
       "</table>\n",
       "<p>100 rows × 2 columns</p>\n",
       "</div>"
      ],
      "text/plain": [
       "           word  count\n",
       "0          sale      3\n",
       "1            go      2\n",
       "2           now      2\n",
       "3           amp      2\n",
       "4         white      2\n",
       "..          ...    ...\n",
       "95  decorations      1\n",
       "96         year      1\n",
       "97         look      1\n",
       "98    something      1\n",
       "99         jill      1\n",
       "\n",
       "[100 rows x 2 columns]"
      ]
     },
     "execution_count": 99,
     "metadata": {},
     "output_type": "execute_result"
    }
   ],
   "source": [
    "def pos_count_loder():\n",
    "    c = Counter(\" \".join(pos_review[\"tweet_text_stop\"].str.lower()).split()).most_common(100)\n",
    "    df = pd.DataFrame(c, columns = ['word', 'count'])\n",
    "    return df\n",
    "pos_count_loder()"
   ]
  }
 ],
 "metadata": {
  "kernelspec": {
   "display_name": "Python 3",
   "language": "python",
   "name": "python3"
  },
  "language_info": {
   "codemirror_mode": {
    "name": "ipython",
    "version": 3
   },
   "file_extension": ".py",
   "mimetype": "text/x-python",
   "name": "python",
   "nbconvert_exporter": "python",
   "pygments_lexer": "ipython3",
   "version": "3.10.0"
  }
 },
 "nbformat": 4,
 "nbformat_minor": 2
}
